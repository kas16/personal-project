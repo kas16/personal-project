{
    "nbformat": 4, 
    "nbformat_minor": 0, 
    "cells": [
        {
            "source": "# The code was removed by DSX for sharing.", 
            "execution_count": 1, 
            "cell_type": "code", 
            "metadata": {
                "collapsed": false
            }, 
            "outputs": [
                {
                    "execution_count": 1, 
                    "data": {
                        "text/plain": "   listing_id         id        date  reviewer_id reviewer_name  \\\n0    15390942  107819513  2016-10-12     44212740        Martha   \n1    15390942  109421911  2016-10-21     78985973       Karsten   \n2    15390942  110186093  2016-10-24     71104400        Andrea   \n3    15390942  111925361  2016-11-02      9908251          Zach   \n4    15390942  112158798  2016-11-04     16897852     Elizabeth   \n\n                                            comments  \n0  Jorge was amazing, so kind! we literally loved...  \n1  I had a great stay at Jorges place. He was alw...  \n2  Jorge was an excellent host. Very prompt in hi...  \n3  Stayed at Jorge's place for eight days and had...  \n4  Beautiful clean Soho apartment. Felt welcome a...  ", 
                        "text/html": "<div>\n<table border=\"1\" class=\"dataframe\">\n  <thead>\n    <tr style=\"text-align: right;\">\n      <th></th>\n      <th>listing_id</th>\n      <th>id</th>\n      <th>date</th>\n      <th>reviewer_id</th>\n      <th>reviewer_name</th>\n      <th>comments</th>\n    </tr>\n  </thead>\n  <tbody>\n    <tr>\n      <th>0</th>\n      <td>15390942</td>\n      <td>107819513</td>\n      <td>2016-10-12</td>\n      <td>44212740</td>\n      <td>Martha</td>\n      <td>Jorge was amazing, so kind! we literally loved...</td>\n    </tr>\n    <tr>\n      <th>1</th>\n      <td>15390942</td>\n      <td>109421911</td>\n      <td>2016-10-21</td>\n      <td>78985973</td>\n      <td>Karsten</td>\n      <td>I had a great stay at Jorges place. He was alw...</td>\n    </tr>\n    <tr>\n      <th>2</th>\n      <td>15390942</td>\n      <td>110186093</td>\n      <td>2016-10-24</td>\n      <td>71104400</td>\n      <td>Andrea</td>\n      <td>Jorge was an excellent host. Very prompt in hi...</td>\n    </tr>\n    <tr>\n      <th>3</th>\n      <td>15390942</td>\n      <td>111925361</td>\n      <td>2016-11-02</td>\n      <td>9908251</td>\n      <td>Zach</td>\n      <td>Stayed at Jorge's place for eight days and had...</td>\n    </tr>\n    <tr>\n      <th>4</th>\n      <td>15390942</td>\n      <td>112158798</td>\n      <td>2016-11-04</td>\n      <td>16897852</td>\n      <td>Elizabeth</td>\n      <td>Beautiful clean Soho apartment. Felt welcome a...</td>\n    </tr>\n  </tbody>\n</table>\n</div>"
                    }, 
                    "output_type": "execute_result", 
                    "metadata": {}
                }
            ]
        }, 
        {
            "source": "\ndf_data_2 = pd.read_csv(get_object_storage_file_with_credentials_22386bbf958b4d50ad17ed5953d3b20c('AirbnbNYCProject', 'listings.csv'))\ndf_data_2.head()\n", 
            "execution_count": 2, 
            "cell_type": "code", 
            "metadata": {
                "collapsed": false
            }, 
            "outputs": [
                {
                    "execution_count": 2, 
                    "data": {
                        "text/plain": "         id                            listing_url       scrape_id  \\\n0    685006    https://www.airbnb.com/rooms/685006  20161203092247   \n1   9461238   https://www.airbnb.com/rooms/9461238  20161203092247   \n2   4873690   https://www.airbnb.com/rooms/4873690  20161203092247   \n3  12738047  https://www.airbnb.com/rooms/12738047  20161203092247   \n4  15359479  https://www.airbnb.com/rooms/15359479  20161203092247   \n\n  last_scraped                                 name  \\\n0   2016-12-04         Best Studio on Prospect Park   \n1   2016-12-04     1 bedrms Williamsburg 1st Stop L   \n2   2016-12-04  Private room, 10min to Times Square   \n3   2016-12-04  clean and tidy separated livingroom   \n4   2016-12-04    Awesome One Bedroom Gramercy Park   \n\n                                             summary  \\\n0  Perfect studio for couples or individuals look...   \n1  Very well located 1 bedroom apt on the South o...   \n2  This 2br apartment in LIC offers a private bed...   \n3  It is the living room separated in an 2b1b apa...   \n4  Dear Guest, Welcome to New York! Thanks for vi...   \n\n                                               space  \\\n0  THE SPACE: The apartment is a good sized studi...   \n1  The apartment is yours for your stay; it has t...   \n2  UPDATE: My apartment was recently featured in ...   \n3                                                NaN   \n4  [Details]  I'll let the pictures speak for the...   \n\n                                         description experiences_offered  \\\n0  Perfect studio for couples or individuals look...                none   \n1  Very well located 1 bedroom apt on the South o...                none   \n2  This 2br apartment in LIC offers a private bed...                none   \n3  It is the living room separated in an 2b1b apa...                none   \n4  Dear Guest, Welcome to New York! Thanks for vi...                none   \n\n                               neighborhood_overview        ...          \\\n0  The apartment is right across the street from ...        ...           \n1  Prime Williamsburg, the hot South side: Steps ...        ...           \n2  Long Island City is the ultimate, in my mind, ...        ...           \n3                                                NaN        ...           \n4                                                NaN        ...           \n\n  review_scores_value requires_license license jurisdiction_names  \\\n0                   9                f     NaN                NaN   \n1                   9                f     NaN                NaN   \n2                   9                f     NaN                NaN   \n3                 NaN                f     NaN                NaN   \n4                  10                f     NaN                NaN   \n\n  instant_bookable cancellation_policy require_guest_profile_picture  \\\n0                f              strict                             f   \n1                f              strict                             f   \n2                f            flexible                             f   \n3                f            moderate                             f   \n4                f            flexible                             f   \n\n  require_guest_phone_verification calculated_host_listings_count  \\\n0                                f                              1   \n1                                f                              1   \n2                                f                              1   \n3                                f                              1   \n4                                f                              1   \n\n   reviews_per_month  \n0               2.87  \n1               4.27  \n2               1.81  \n3                NaN  \n4               1.00  \n\n[5 rows x 95 columns]", 
                        "text/html": "<div>\n<table border=\"1\" class=\"dataframe\">\n  <thead>\n    <tr style=\"text-align: right;\">\n      <th></th>\n      <th>id</th>\n      <th>listing_url</th>\n      <th>scrape_id</th>\n      <th>last_scraped</th>\n      <th>name</th>\n      <th>summary</th>\n      <th>space</th>\n      <th>description</th>\n      <th>experiences_offered</th>\n      <th>neighborhood_overview</th>\n      <th>...</th>\n      <th>review_scores_value</th>\n      <th>requires_license</th>\n      <th>license</th>\n      <th>jurisdiction_names</th>\n      <th>instant_bookable</th>\n      <th>cancellation_policy</th>\n      <th>require_guest_profile_picture</th>\n      <th>require_guest_phone_verification</th>\n      <th>calculated_host_listings_count</th>\n      <th>reviews_per_month</th>\n    </tr>\n  </thead>\n  <tbody>\n    <tr>\n      <th>0</th>\n      <td>685006</td>\n      <td>https://www.airbnb.com/rooms/685006</td>\n      <td>20161203092247</td>\n      <td>2016-12-04</td>\n      <td>Best Studio on Prospect Park</td>\n      <td>Perfect studio for couples or individuals look...</td>\n      <td>THE SPACE: The apartment is a good sized studi...</td>\n      <td>Perfect studio for couples or individuals look...</td>\n      <td>none</td>\n      <td>The apartment is right across the street from ...</td>\n      <td>...</td>\n      <td>9</td>\n      <td>f</td>\n      <td>NaN</td>\n      <td>NaN</td>\n      <td>f</td>\n      <td>strict</td>\n      <td>f</td>\n      <td>f</td>\n      <td>1</td>\n      <td>2.87</td>\n    </tr>\n    <tr>\n      <th>1</th>\n      <td>9461238</td>\n      <td>https://www.airbnb.com/rooms/9461238</td>\n      <td>20161203092247</td>\n      <td>2016-12-04</td>\n      <td>1 bedrms Williamsburg 1st Stop L</td>\n      <td>Very well located 1 bedroom apt on the South o...</td>\n      <td>The apartment is yours for your stay; it has t...</td>\n      <td>Very well located 1 bedroom apt on the South o...</td>\n      <td>none</td>\n      <td>Prime Williamsburg, the hot South side: Steps ...</td>\n      <td>...</td>\n      <td>9</td>\n      <td>f</td>\n      <td>NaN</td>\n      <td>NaN</td>\n      <td>f</td>\n      <td>strict</td>\n      <td>f</td>\n      <td>f</td>\n      <td>1</td>\n      <td>4.27</td>\n    </tr>\n    <tr>\n      <th>2</th>\n      <td>4873690</td>\n      <td>https://www.airbnb.com/rooms/4873690</td>\n      <td>20161203092247</td>\n      <td>2016-12-04</td>\n      <td>Private room, 10min to Times Square</td>\n      <td>This 2br apartment in LIC offers a private bed...</td>\n      <td>UPDATE: My apartment was recently featured in ...</td>\n      <td>This 2br apartment in LIC offers a private bed...</td>\n      <td>none</td>\n      <td>Long Island City is the ultimate, in my mind, ...</td>\n      <td>...</td>\n      <td>9</td>\n      <td>f</td>\n      <td>NaN</td>\n      <td>NaN</td>\n      <td>f</td>\n      <td>flexible</td>\n      <td>f</td>\n      <td>f</td>\n      <td>1</td>\n      <td>1.81</td>\n    </tr>\n    <tr>\n      <th>3</th>\n      <td>12738047</td>\n      <td>https://www.airbnb.com/rooms/12738047</td>\n      <td>20161203092247</td>\n      <td>2016-12-04</td>\n      <td>clean and tidy separated livingroom</td>\n      <td>It is the living room separated in an 2b1b apa...</td>\n      <td>NaN</td>\n      <td>It is the living room separated in an 2b1b apa...</td>\n      <td>none</td>\n      <td>NaN</td>\n      <td>...</td>\n      <td>NaN</td>\n      <td>f</td>\n      <td>NaN</td>\n      <td>NaN</td>\n      <td>f</td>\n      <td>moderate</td>\n      <td>f</td>\n      <td>f</td>\n      <td>1</td>\n      <td>NaN</td>\n    </tr>\n    <tr>\n      <th>4</th>\n      <td>15359479</td>\n      <td>https://www.airbnb.com/rooms/15359479</td>\n      <td>20161203092247</td>\n      <td>2016-12-04</td>\n      <td>Awesome One Bedroom Gramercy Park</td>\n      <td>Dear Guest, Welcome to New York! Thanks for vi...</td>\n      <td>[Details]  I'll let the pictures speak for the...</td>\n      <td>Dear Guest, Welcome to New York! Thanks for vi...</td>\n      <td>none</td>\n      <td>NaN</td>\n      <td>...</td>\n      <td>10</td>\n      <td>f</td>\n      <td>NaN</td>\n      <td>NaN</td>\n      <td>f</td>\n      <td>flexible</td>\n      <td>f</td>\n      <td>f</td>\n      <td>1</td>\n      <td>1.00</td>\n    </tr>\n  </tbody>\n</table>\n<p>5 rows \u00d7 95 columns</p>\n</div>"
                    }, 
                    "output_type": "execute_result", 
                    "metadata": {}
                }
            ]
        }, 
        {
            "source": "", 
            "execution_count": null, 
            "cell_type": "code", 
            "metadata": {
                "collapsed": true
            }, 
            "outputs": []
        }
    ], 
    "metadata": {
        "language_info": {
            "nbconvert_exporter": "python", 
            "mimetype": "text/x-python", 
            "pygments_lexer": "ipython2", 
            "version": "2.7.11", 
            "file_extension": ".py", 
            "name": "python", 
            "codemirror_mode": {
                "name": "ipython", 
                "version": 2
            }
        }, 
        "kernelspec": {
            "name": "python2", 
            "display_name": "Python 2 with Spark 1.6", 
            "language": "python"
        }
    }
}